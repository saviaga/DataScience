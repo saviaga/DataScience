{
 "cells": [
  {
   "cell_type": "markdown",
   "metadata": {
    "collapsed": true
   },
   "source": [
    "# Profitable App Profiles for the App Store and Google Play"
   ]
  },
  {
   "cell_type": "markdown",
   "metadata": {},
   "source": [
    "You're working as data analysts for a company that builds Android and iOS mobile apps. We make our apps available on Google Play and the App Store.<br><br>\n",
    "\n",
    "The company only builds apps that are free to download and install, and its main source of revenue consists of in-app ads. This means our revenue for any given app is mostly influenced by the number of users who use their app — the more users that see and engage with the ads, the better. <br><br>\n",
    "The goal for this project is to analyze data to help our developers understand what type of apps are likely to attract more users.<br>\n",
    "\n",
    "Two datasets will be used:<br> \n",
    "A data set containing data about approximately 10,000 Android apps from Google Play; the data was collected in August 2018:<br> https://www.kaggle.com/lava18/google-play-store-apps/home<br><br>\n",
    "\n",
    "A data set containing data about approximately 7,000 iOS apps from the App Store; the data was collected in July 2017: https://www.kaggle.com/ramamet4/app-store-apple-data-set-10k-apps/home"
   ]
  },
  {
   "cell_type": "markdown",
   "metadata": {},
   "source": [
    "**Function to open a data set**"
   ]
  },
  {
   "cell_type": "code",
   "execution_count": 1,
   "metadata": {},
   "outputs": [],
   "source": [
    "from csv import reader \n",
    "\n",
    "def explore_data(dataset, start, end, rows_and_columns=False):\n",
    "    dataset_slice = dataset[start:end]\n",
    "    for row in dataset_slice:\n",
    "        print(row)\n",
    "        print('\\n')\n",
    "    if rows_and_columns:\n",
    "        print(\"Number of rows:\", len(dataset))\n",
    "        print(\"Number of columns:\", len(dataset[0]))"
   ]
  },
  {
   "cell_type": "markdown",
   "metadata": {},
   "source": [
    "**Function to explore rows in a more readable way. Also has an option for our function to show the number of rows and columns for any data set.**"
   ]
  },
  {
   "cell_type": "code",
   "execution_count": 2,
   "metadata": {
    "scrolled": true
   },
   "outputs": [
    {
     "name": "stdout",
     "output_type": "stream",
     "text": [
      "['284882215', 'Facebook', '389879808', 'USD', '0.0', '2974676', '212', '3.5', '3.5', '95.0', '4+', 'Social Networking', '37', '1', '29', '1']\n",
      "\n",
      "\n",
      "['389801252', 'Instagram', '113954816', 'USD', '0.0', '2161558', '1289', '4.5', '4.0', '10.23', '12+', 'Photo & Video', '37', '0', '29', '1']\n",
      "\n",
      "\n",
      "Number of rows: 7197\n",
      "Number of columns: 16\n",
      "['Photo Editor & Candy Camera & Grid & ScrapBook', 'ART_AND_DESIGN', '4.1', '159', '19M', '10,000+', 'Free', '0', 'Everyone', 'Art & Design', 'January 7, 2018', '1.0.0', '4.0.3 and up']\n",
      "\n",
      "\n",
      "['Coloring book moana', 'ART_AND_DESIGN', '3.9', '967', '14M', '500,000+', 'Free', '0', 'Everyone', 'Art & Design;Pretend Play', 'January 15, 2018', '2.0.0', '4.0.3 and up']\n",
      "\n",
      "\n",
      "Number of rows: 10841\n",
      "Number of columns: 13\n"
     ]
    }
   ],
   "source": [
    "from csv import reader #csv reader\n",
    "def open_dataset(filename,header):\n",
    "    opened_file = open(filename)#open file\n",
    "    readed_file = reader(opened_file)#read file\n",
    "    data = list(readed_file)#convert to list\n",
    "    if header:\n",
    "        return data[1:]\n",
    "    else:\n",
    "        return data\n",
    "data_apple_store = open_dataset('AppleStore.csv',True)\n",
    "data_google_store = open_dataset('googleplaystore.csv',True)\n",
    "explore_data(data_apple_store,0,2,True)\n",
    "explore_data(data_google_store,0,2,True)"
   ]
  },
  {
   "cell_type": "markdown",
   "metadata": {},
   "source": [
    "Before beginning our analysis, we need to make sure the data we analyze is accurate, otherwise the results of our analysis will be wrong. This means that we need to:<br>\n",
    "\n",
    "Detect inaccurate data, and correct or remove it.<br>\n",
    "Detect duplicate data, and remove the duplicates.<br>\n",
    "\n",
    "Recall that at the company, they only build apps that are free to download and install, and that are directed toward an English-speaking audience. This means that you'll need to:\n",
    "\n",
    "Remove non-English apps like 爱奇艺PPS -《欢乐颂2》电视剧热播.<br>\n",
    "Remove apps that aren't free.<br>\n",
    "\n",
    "This process of preparing the data for analysis is called **data cleaning**.<br>\n",
    "\n",
    "**Data cleaning** is done before the analysis; it includes removing or correcting wrong data, removing duplicate data, and modifying the data to fit the purpose of the analysis.<br>\n",
    "\n",
    "Let's begin by detecting and deleting wrong data."
   ]
  },
  {
   "cell_type": "code",
   "execution_count": 3,
   "metadata": {
    "scrolled": true
   },
   "outputs": [
    {
     "name": "stdout",
     "output_type": "stream",
     "text": [
      "['Life Made WI-Fi Touchscreen Photo Frame', '1.9', '19', '3.0M', '1,000+', 'Free', '0', 'Everyone', '', 'February 11, 2018', '1.0.19', '4.0 and up']\n",
      "\n",
      "\n",
      "['Photo Editor & Candy Camera & Grid & ScrapBook', 'ART_AND_DESIGN', '4.1', '159', '19M', '10,000+', 'Free', '0', 'Everyone', 'Art & Design', 'January 7, 2018', '1.0.0', '4.0.3 and up']\n",
      "\n",
      "\n",
      "['osmino Wi-Fi: free WiFi', 'TOOLS', '4.2', '134203', '4.1M', '10,000,000+', 'Free', '0', 'Everyone', 'Tools', 'August 7, 2018', '6.06.14', '4.4 and up']\n"
     ]
    }
   ],
   "source": [
    "print(data_google_store[10472])  # incorrect row\n",
    "print('\\n')\n",
    "print(data_google_store[0])  # header\n",
    "print('\\n')\n",
    "print(data_google_store[10472+1])      # correct row"
   ]
  },
  {
   "cell_type": "markdown",
   "metadata": {},
   "source": [
    "The row 10472 corresponds to the app Life Made WI-Fi Touchscreen Photo Frame, and we can see that the rating is 19. This is clearly off because the maximum rating for a Google Play app is 5. As a consequence, we'll delete this row."
   ]
  },
  {
   "cell_type": "code",
   "execution_count": 4,
   "metadata": {},
   "outputs": [
    {
     "name": "stdout",
     "output_type": "stream",
     "text": [
      "10841\n",
      "10840\n"
     ]
    }
   ],
   "source": [
    "print(len(data_google_store))\n",
    "del data_google_store[10472]  # don't run this more than once\n",
    "print(len(data_google_store))"
   ]
  },
  {
   "cell_type": "markdown",
   "metadata": {},
   "source": [
    "Check if apps have duplicate entries<br>\n",
    "For instance, Instagram has four entries:"
   ]
  },
  {
   "cell_type": "code",
   "execution_count": 5,
   "metadata": {},
   "outputs": [
    {
     "name": "stdout",
     "output_type": "stream",
     "text": [
      "['Instagram', 'SOCIAL', '4.5', '66577313', 'Varies with device', '1,000,000,000+', 'Free', '0', 'Teen', 'Social', 'July 31, 2018', 'Varies with device', 'Varies with device']\n",
      "['Instagram', 'SOCIAL', '4.5', '66577446', 'Varies with device', '1,000,000,000+', 'Free', '0', 'Teen', 'Social', 'July 31, 2018', 'Varies with device', 'Varies with device']\n",
      "['Instagram', 'SOCIAL', '4.5', '66577313', 'Varies with device', '1,000,000,000+', 'Free', '0', 'Teen', 'Social', 'July 31, 2018', 'Varies with device', 'Varies with device']\n",
      "['Instagram', 'SOCIAL', '4.5', '66509917', 'Varies with device', '1,000,000,000+', 'Free', '0', 'Teen', 'Social', 'July 31, 2018', 'Varies with device', 'Varies with device']\n"
     ]
    }
   ],
   "source": [
    "for app in data_google_store:\n",
    "    name = app[0]\n",
    "    if name == 'Instagram':\n",
    "        print(app)"
   ]
  },
  {
   "cell_type": "markdown",
   "metadata": {},
   "source": [
    "Check which other duplicate apps exists"
   ]
  },
  {
   "cell_type": "code",
   "execution_count": 6,
   "metadata": {},
   "outputs": [
    {
     "name": "stdout",
     "output_type": "stream",
     "text": [
      "Number of duplicate apps: 1181\n",
      "\n",
      "\n",
      "Number of duplicate apps: 2\n",
      "\n",
      "\n"
     ]
    }
   ],
   "source": [
    "google_duplicate_apps = []\n",
    "google_unique_apps = []\n",
    "\n",
    "for app in data_google_store: #for each app name in the store\n",
    "    name = app[0]  #get the name of the app\n",
    "    if name in google_unique_apps: #if the name exist in unique_apps\n",
    "        google_duplicate_apps.append(name) #means that is a duplicate, therefore we store it\n",
    "    else:\n",
    "        google_unique_apps.append(name) #if it is not in unique app, it is unique\n",
    "        \n",
    "        \n",
    "\n",
    "print('Number of duplicate apps:', len(google_duplicate_apps))\n",
    "print('\\n')\n",
    "#print(\"Examples of duplicate apps:\", google_duplicate_apps[:15])\n",
    "\n",
    "ios_duplicate_apps = []\n",
    "ios_unique_apps = []\n",
    "for app in data_apple_store[1:]: #for each row in google_store\n",
    "    name = app[1]        #get the name of the app\n",
    "    if name in ios_unique_apps:  #if the name exists in unique_apps\n",
    "        ios_duplicate_apps.append(name)  #means that is not unique, becuase is already there, add to duplicate\n",
    "    else:                           #if it is not in unique app, then is the first time i see it, might be unique\n",
    "        ios_unique_apps.append(name)\n",
    "\n",
    "print('Number of duplicate apps:', len(ios_duplicate_apps))\n",
    "print('\\n')\n",
    "#print(\"Examples of duplicate apps:\", ios_unique_apps[:15])\n"
   ]
  },
  {
   "cell_type": "markdown",
   "metadata": {},
   "source": [
    "You don't want to count certain apps more than once when you analyze data, so you need to remove the duplicate entries and keep only one entry per app. <br><br>\n",
    "If we examine the rows we printed for the Instagram app, the main difference happens on the fourth position of each row, which corresponds to the number of reviews. The different numbers show the data was collected at different times.<br><br>\n",
    "We can use this information to build a criterion for removing the duplicates. The higher the number of reviews, the more recent the data should be. Rather than removing duplicates randomly, we'll only keep the row with the highest number of reviews and remove the other entries for any given app.<br><br>\n",
    "To remove the duplicates, we will:<br><br>\n",
    "\n",
    "Create a dictionary, where each dictionary key is a unique app name and the corresponding dictionary value is the highest number of reviews of that app.<br><br>\n",
    "Use the information stored in the dictionary and create a new data set, which will have only one entry per app (and for each app, we'll only select the entry with the highest number of reviews).<br><br>\n",
    "\n",
    "Now, let's use the reviews_max dictionary to remove the duplicates. For the duplicate cases, we'll only keep the entries with the highest number of reviews. In the code cell below:<br><br>\n",
    "\n",
    "We start by initializing two empty lists, android_clean and already_added.<br><br>\n",
    "We loop through the android data set, and for every iteration:\n",
    "We isolate the name of the app and the number of reviews.<br><br>\n",
    "We add the current row (app) to the android_clean list, and the app name (name) to the already_cleaned list if:<br><br>\n",
    "The number of reviews of the current app matches the number of reviews of that app as described in the reviews_max dictionary; and<br><br>\n",
    "The name of the app is not already in the already_added list. We need to add this supplementary condition to account for those cases where the highest number of reviews of a duplicate app is the same for more than one entry (for example, the Box app has three entries, and the number of reviews is the same). If we just check for reviews_max[name] == n_reviews, we'll still end up with duplicate entries for some apps.\n"
   ]
  },
  {
   "cell_type": "code",
   "execution_count": 7,
   "metadata": {},
   "outputs": [
    {
     "data": {
      "text/plain": [
       "9659"
      ]
     },
     "execution_count": 7,
     "metadata": {},
     "output_type": "execute_result"
    }
   ],
   "source": [
    "reviews_max = {}\n",
    "for app in data_google_store:\n",
    "    name = app[0] #Assign the app name to a variable named name\n",
    "    n_reviews = float(app[3]) # Assign the reviews to a variable named n_reviews\n",
    "    if name in reviews_max and reviews_max[name] < n_reviews:\n",
    "        reviews_max[name] = n_reviews\n",
    "    #Make sure you don't use an else clause here, otherwise the number of reviews \n",
    "    #will be incorrectly updated whenever reviews_max[name] < n_reviews evaluates to False.\n",
    "    elif name not in reviews_max: \n",
    "        reviews_max[name] = n_reviews\n",
    "        \n",
    "len(reviews_max)\n",
    "\n"
   ]
  },
  {
   "cell_type": "code",
   "execution_count": 8,
   "metadata": {},
   "outputs": [
    {
     "data": {
      "text/plain": [
       "9659"
      ]
     },
     "execution_count": 8,
     "metadata": {},
     "output_type": "execute_result"
    }
   ],
   "source": [
    "android_clean = [] #will store our new cleaned data set\n",
    "already_added = [] #will just store app names\n",
    "\n",
    "for app in data_google_store:\n",
    "    name = app[0]\n",
    "    n_reviews = float(app[3])\n",
    "    #We need to add this supplementary condition to account for \n",
    "    #those cases where the highest number of reviews of a duplicate\n",
    "    #app is the same for more than one entry \n",
    "    #then we check name not in already_added\n",
    "    if n_reviews == reviews_max[name] and name not in already_added:\n",
    "        android_clean.append(app)\n",
    "        already_added.append(name)\n",
    "        \n",
    "\n",
    "len(android_clean)"
   ]
  },
  {
   "cell_type": "code",
   "execution_count": 9,
   "metadata": {},
   "outputs": [
    {
     "name": "stdout",
     "output_type": "stream",
     "text": [
      "7195\n"
     ]
    }
   ],
   "source": [
    "reviews_max = {}\n",
    "for app in data_apple_store:\n",
    "    name = app[1] #Assign the app name to a variable named name\n",
    "    n_reviews = float(app[5]) # Assign the reviews to a variable named n_reviews\n",
    "    if name in reviews_max and reviews_max[name] < n_reviews:\n",
    "        reviews_max[name] = n_reviews\n",
    "    #Make sure you don't use an else clause here, otherwise the number of reviews \n",
    "    #will be incorrectly updated whenever reviews_max[name] < n_reviews evaluates to False.\n",
    "    elif name not in reviews_max: \n",
    "        reviews_max[name] = n_reviews\n",
    "        \n",
    "len(reviews_max)\n",
    "\n",
    "ios_clean = [] #will store our new cleaned data set\n",
    "already_added = [] #will just store app names\n",
    "\n",
    "for app in data_apple_store:\n",
    "    name = app[1]\n",
    "    n_reviews = float(app[5])\n",
    "    #We need to add this supplementary condition to account for \n",
    "    #those cases where the highest number of reviews of a duplicate\n",
    "    #app is the same for more than one entry \n",
    "    #then we check name not in already_added\n",
    "    if n_reviews == reviews_max[name] and name not in already_added:\n",
    "        ios_clean.append(app)\n",
    "        already_added.append(name)\n",
    "        \n",
    "\n",
    "print(len(ios_clean))\n",
    "\n",
    "\n",
    "\n",
    "\n"
   ]
  },
  {
   "cell_type": "markdown",
   "metadata": {},
   "source": [
    "we'd like to analyze only the apps that are directed toward an English-speaking audience. <br><br>\n",
    "The numbers corresponding to the characters we commonly use in an English text are all in the range 0 to 127, according to the ASCII (American Standard Code for Information Interchange) system.<br><br>\n",
    "Based on this number range, we can build a function that detects whether a character belongs to the set of common English characters or not. <br><br>"
   ]
  },
  {
   "cell_type": "markdown",
   "metadata": {},
   "source": [
    "Write a function that takes each individual character of a string and check if the corresponding ASCII number is within the English alphabet numbers. <br><br>\n",
    "The function  takes in a string and returns False if there's any character in the string that doesn't belong to the set of common English characters, otherwise it returns True.<br><br>\n",
    "We can get the corresponding number of each character using the ord() built-in function.\n",
    "\n",
    "Some English app names use emojis or other symbols (™, — (em dash), – (en dash), etc.) that fall outside of the ASCII range. Because of this, we'll remove useful apps if we use the function in its current form.<br><br>\n",
    "To minimize the impact of data loss, we'll only remove an app if its name has more than three characters with corresponding numbers falling outside the ASCII range. This means all English apps with up to three emoji or other special characters will still be labeled as English. Our filter function is still not perfect, but it should be fairly effective."
   ]
  },
  {
   "cell_type": "code",
   "execution_count": 10,
   "metadata": {},
   "outputs": [
    {
     "name": "stdout",
     "output_type": "stream",
     "text": [
      "True\n",
      "False\n",
      "True\n"
     ]
    }
   ],
   "source": [
    "def check_if_english(a_str):\n",
    "    non_ascii = 0\n",
    "    for a_chr in a_str:\n",
    "        if ord(a_chr) > 127:\n",
    "            non_ascii += 1\n",
    "    if non_ascii > 3:\n",
    "        return False\n",
    "    else:\n",
    "        return True \n",
    "\n",
    "print(check_if_english('Docs To Go™ Free Office Suite'))\n",
    "print(check_if_english('爱奇艺PPS -《欢乐颂2》电视剧热播'))\n",
    "print(check_if_english('Instachat 😜') )   "
   ]
  },
  {
   "cell_type": "markdown",
   "metadata": {},
   "source": [
    "Use the new function to filter out non-English apps from both data sets. Loop through each data set. If an app name is identified as English, append the whole row to a separate list.\n",
    "\n"
   ]
  },
  {
   "cell_type": "code",
   "execution_count": 11,
   "metadata": {},
   "outputs": [
    {
     "name": "stdout",
     "output_type": "stream",
     "text": [
      "9659\n",
      "9614\n",
      "7195\n",
      "6181\n"
     ]
    }
   ],
   "source": [
    "android_english_apps = []\n",
    "ios_english_apps = []\n",
    "\n",
    "for app in android_clean:\n",
    "    if check_if_english(app[0]):\n",
    "        android_english_apps.append(app)\n",
    "\n",
    "print(len(android_clean))\n",
    "print(len(android_english_apps))\n",
    "        \n",
    "for app in ios_clean:\n",
    "    if check_if_english(app[1]):\n",
    "        ios_english_apps.append(app)\n",
    "\n",
    "print(len(ios_clean))\n",
    "print(len(ios_english_apps))\n",
    "    "
   ]
  },
  {
   "cell_type": "markdown",
   "metadata": {},
   "source": [
    "Our data sets contain both free and non-free apps; we'll need to isolate only the free apps for our analysis."
   ]
  },
  {
   "cell_type": "code",
   "execution_count": 12,
   "metadata": {},
   "outputs": [
    {
     "name": "stdout",
     "output_type": "stream",
     "text": [
      "8864\n",
      "3220\n"
     ]
    }
   ],
   "source": [
    "english_google_free_apps=[]\n",
    "\n",
    "for app in android_english_apps:\n",
    "    if app[7]=='0':\n",
    "        english_google_free_apps.append(app)\n",
    "        \n",
    "print(len(english_google_free_apps))\n",
    "\n",
    "english_ios_free_apps=[]\n",
    "\n",
    "for app in ios_english_apps:\n",
    "    if app[4]=='0.0':\n",
    "        english_ios_free_apps.append(app)\n",
    "        \n",
    "print(len(english_ios_free_apps))\n",
    "    "
   ]
  },
  {
   "cell_type": "markdown",
   "metadata": {},
   "source": [
    "Let's begin the analysis by getting a sense of what are the most common genres for each market. For this, we'll need to build frequency tables for a few columns in our data sets."
   ]
  },
  {
   "cell_type": "code",
   "execution_count": 13,
   "metadata": {},
   "outputs": [
    {
     "name": "stdout",
     "output_type": "stream",
     "text": [
      "Games : 53.64836692147325\n",
      "Entertainment : 7.4357192494788045\n",
      "Education : 6.2960389159138295\n",
      "Photo & Video : 4.850590687977762\n",
      "Utilities : 3.4468380820013897\n",
      "Health & Fitness : 2.501737317581654\n",
      "Productivity : 2.473940236275191\n",
      "Social Networking : 2.3210562890896456\n",
      "Lifestyle : 2.0013898540653234\n",
      "Music : 1.9179986101459348\n",
      "Shopping : 1.695621959694232\n",
      "Sports : 1.584433634468381\n",
      "Book : 1.556636553161918\n",
      "Finance : 1.4454482279360668\n",
      "Travel : 1.1257817929117442\n",
      "News : 1.0423905489923557\n",
      "Weather : 1.0006949270326617\n",
      "Reference : 0.8895066018068103\n",
      "Food & Drink : 0.8756080611535788\n",
      "Business : 0.7922168172341905\n",
      "Navigation : 0.6393328700486448\n",
      "Medical : 0.3196664350243224\n",
      "Catalogs : 0.13898540653231412\n"
     ]
    }
   ],
   "source": [
    "def freq_table(dataset, idx):\n",
    "    category = {}\n",
    "    total = 0\n",
    "    for row in dataset:\n",
    "        total+=1 #count len of dataset\n",
    "        value = row[idx]\n",
    "        if value in category:\n",
    "            category[value] += 1\n",
    "        else:\n",
    "            category[value] = 1\n",
    "            \n",
    "    table_percentages = {}\n",
    "    for key in category:\n",
    "        percentage = (category[key] / total) * 100\n",
    "        table_percentages[key] = percentage \n",
    "   \n",
    "    return table_percentages\n",
    "\n",
    "def display_table(dataset, index):\n",
    "    table = freq_table(dataset, index)\n",
    "    table_display = []\n",
    "    for key in table:\n",
    "        key_val_as_tuple = (table[key], key)\n",
    "        table_display.append(key_val_as_tuple)\n",
    "\n",
    "    table_sorted = sorted(table_display, reverse = True)\n",
    "    for entry in table_sorted:\n",
    "        print(entry[1], ':', entry[0])\n",
    "display_table(ios_clean,-5)\n"
   ]
  },
  {
   "cell_type": "markdown",
   "metadata": {},
   "source": [
    "We can see that among the free English apps, more than a half (58.16%) are games. Entertainment apps are close to 8%, followed by photo and video apps, which are close to 5%. Only 3.66% of the apps are designed for education, followed by social networking apps which amount for 3.29% of the apps in our data set.<br><br>\n",
    "However, the fact that fun apps are the most numerous doesn't also imply that they also have the greatest number of users — the demand might not be the same as the offer."
   ]
  },
  {
   "cell_type": "code",
   "execution_count": 14,
   "metadata": {},
   "outputs": [
    {
     "name": "stdout",
     "output_type": "stream",
     "text": [
      "FAMILY : 19.40159436794699\n",
      "GAME : 9.793974531525002\n",
      "TOOLS : 8.582669013355419\n",
      "BUSINESS : 4.348276219070297\n",
      "MEDICAL : 4.089450253649446\n",
      "PERSONALIZATION : 3.892742519929599\n",
      "PRODUCTIVITY : 3.8720364426959315\n",
      "LIFESTYLE : 3.820271249611761\n",
      "FINANCE : 3.571798322807744\n",
      "SPORTS : 3.3647375504710633\n",
      "COMMUNICATION : 3.2612071643027227\n",
      "HEALTH_AND_FITNESS : 2.9816751216482036\n",
      "PHOTOGRAPHY : 2.9092038513303655\n",
      "NEWS_AND_MAGAZINES : 2.6296718086758464\n",
      "SOCIAL : 2.474376229423336\n",
      "BOOKS_AND_REFERENCE : 2.298374572937157\n",
      "TRAVEL_AND_LOCAL : 2.2673154570866547\n",
      "SHOPPING : 2.0913138006004766\n",
      "DATING : 1.760016564861787\n",
      "VIDEO_PLAYERS : 1.6978983331607829\n",
      "MAPS_AND_NAVIGATION : 1.3562480588052592\n",
      "FOOD_AND_DRINK : 1.1595403250854126\n",
      "EDUCATION : 1.1077751320012423\n",
      "ENTERTAINMENT : 0.9007143596645615\n",
      "AUTO_AND_VEHICLES : 0.8800082824308935\n",
      "LIBRARIES_AND_DEMO : 0.8696552438140595\n",
      "WEATHER : 0.8178900507298892\n",
      "HOUSE_AND_HOME : 0.7557718190288849\n",
      "EVENTS : 0.6625944714773786\n",
      "ART_AND_DESIGN : 0.6315353556268765\n",
      "PARENTING : 0.6211823170100425\n",
      "COMICS : 0.5797701625427063\n",
      "BEAUTY : 0.5487110466922042\n"
     ]
    }
   ],
   "source": [
    "display_table(android_clean, 1)"
   ]
  },
  {
   "cell_type": "markdown",
   "metadata": {},
   "source": [
    "The landscape seems significantly different on Google Play: there are not that many apps designed for fun, and it seems that a good number of apps are designed for practical purposes (family, tools, business, lifestyle, productivity, etc.). However, if we investigate this further, we can see that the family category (which accounts for almost 19% of the apps) means mostly games for kids. Even so, practical apps seem to have a better representation on Google Play compared to App Store. This picture is also confirmed by the frequency table we see for the Genres column:"
   ]
  },
  {
   "cell_type": "code",
   "execution_count": 15,
   "metadata": {},
   "outputs": [
    {
     "name": "stdout",
     "output_type": "stream",
     "text": [
      "Tools : 8.572315974738585\n",
      "Entertainment : 5.808054664043897\n",
      "Education : 5.280049694585361\n",
      "Business : 4.348276219070297\n",
      "Medical : 4.089450253649446\n",
      "Personalization : 3.892742519929599\n",
      "Productivity : 3.8720364426959315\n",
      "Lifestyle : 3.8099182109949266\n",
      "Finance : 3.571798322807744\n",
      "Sports : 3.4268557821720678\n",
      "Communication : 3.2612071643027227\n",
      "Action : 3.095558546433378\n",
      "Health & Fitness : 2.9816751216482036\n",
      "Photography : 2.9092038513303655\n",
      "News & Magazines : 2.6296718086758464\n",
      "Social : 2.474376229423336\n",
      "Books & Reference : 2.298374572937157\n",
      "Travel & Local : 2.2569624184698207\n",
      "Shopping : 2.0913138006004766\n",
      "Simulation : 1.9981364530489698\n",
      "Arcade : 1.9049591054974633\n",
      "Dating : 1.760016564861787\n",
      "Casual : 1.7082513717776169\n",
      "Video Players & Editors : 1.6771922559271144\n",
      "Maps & Navigation : 1.3562480588052592\n",
      "Puzzle : 1.232011595403251\n",
      "Food & Drink : 1.1595403250854126\n",
      "Role Playing : 1.0870690547675743\n",
      "Strategy : 0.9835386685992339\n",
      "Racing : 0.9421265141318977\n",
      "Auto & Vehicles : 0.8800082824308935\n",
      "Libraries & Demo : 0.8696552438140595\n",
      "Weather : 0.8178900507298892\n",
      "House & Home : 0.7557718190288849\n",
      "Adventure : 0.7557718190288849\n",
      "Events : 0.6625944714773786\n",
      "Art & Design : 0.5901232011595403\n",
      "Comics : 0.5694171239258723\n",
      "Beauty : 0.5487110466922042\n",
      "Card : 0.4865928149911999\n",
      "Parenting : 0.4762397763743658\n",
      "Board : 0.4348276219070297\n",
      "Casino : 0.4037685060565276\n",
      "Trivia : 0.3934154674396935\n",
      "Educational;Education : 0.3934154674396935\n",
      "Educational : 0.3830624288228595\n",
      "Education;Education : 0.37270939020602545\n",
      "Casual;Pretend Play : 0.258825965420851\n",
      "Word : 0.2381198881871829\n",
      "Music : 0.19670773371984676\n",
      "Puzzle;Brain Games : 0.1760016564861787\n",
      "Education;Pretend Play : 0.1760016564861787\n",
      "Racing;Action & Adventure : 0.16564861786934465\n",
      "Entertainment;Music & Video : 0.1552955792525106\n",
      "Board;Brain Games : 0.14494254063567658\n",
      "Arcade;Action & Adventure : 0.14494254063567658\n",
      "Educational;Pretend Play : 0.13458950201884254\n",
      "Casual;Action & Adventure : 0.13458950201884254\n",
      "Casual;Brain Games : 0.12423646340200849\n",
      "Action;Action & Adventure : 0.12423646340200849\n",
      "Simulation;Action & Adventure : 0.07247127031783829\n",
      "Parenting;Education : 0.07247127031783829\n",
      "Entertainment;Brain Games : 0.07247127031783829\n",
      "Parenting;Music & Video : 0.062118231701004244\n",
      "Educational;Brain Games : 0.062118231701004244\n",
      "Education;Creativity : 0.062118231701004244\n",
      "Casual;Creativity : 0.062118231701004244\n",
      "Art & Design;Creativity : 0.062118231701004244\n",
      "Educational;Creativity : 0.05176519308417021\n",
      "Adventure;Action & Adventure : 0.05176519308417021\n",
      "Sports;Action & Adventure : 0.04141215446733616\n",
      "Role Playing;Pretend Play : 0.04141215446733616\n",
      "Role Playing;Action & Adventure : 0.04141215446733616\n",
      "Education;Brain Games : 0.04141215446733616\n",
      "Education;Action & Adventure : 0.04141215446733616\n",
      "Simulation;Pretend Play : 0.031059115850502122\n",
      "Simulation;Education : 0.031059115850502122\n",
      "Puzzle;Action & Adventure : 0.031059115850502122\n",
      "Music;Music & Video : 0.031059115850502122\n",
      "Entertainment;Creativity : 0.031059115850502122\n",
      "Entertainment;Action & Adventure : 0.031059115850502122\n",
      "Educational;Action & Adventure : 0.031059115850502122\n",
      "Education;Music & Video : 0.031059115850502122\n",
      "Casual;Education : 0.031059115850502122\n",
      "Board;Action & Adventure : 0.031059115850502122\n",
      "Video Players & Editors;Music & Video : 0.02070607723366808\n",
      "Strategy;Action & Adventure : 0.02070607723366808\n",
      "Puzzle;Creativity : 0.02070607723366808\n",
      "Entertainment;Pretend Play : 0.02070607723366808\n",
      "Card;Action & Adventure : 0.02070607723366808\n",
      "Books & Reference;Education : 0.02070607723366808\n",
      "Video Players & Editors;Creativity : 0.01035303861683404\n",
      "Trivia;Education : 0.01035303861683404\n",
      "Travel & Local;Action & Adventure : 0.01035303861683404\n",
      "Tools;Education : 0.01035303861683404\n",
      "Strategy;Education : 0.01035303861683404\n",
      "Strategy;Creativity : 0.01035303861683404\n",
      "Role Playing;Education : 0.01035303861683404\n",
      "Role Playing;Brain Games : 0.01035303861683404\n",
      "Racing;Pretend Play : 0.01035303861683404\n",
      "Puzzle;Education : 0.01035303861683404\n",
      "Parenting;Brain Games : 0.01035303861683404\n",
      "Music & Audio;Music & Video : 0.01035303861683404\n",
      "Lifestyle;Pretend Play : 0.01035303861683404\n",
      "Lifestyle;Education : 0.01035303861683404\n",
      "Health & Fitness;Education : 0.01035303861683404\n",
      "Health & Fitness;Action & Adventure : 0.01035303861683404\n",
      "Entertainment;Education : 0.01035303861683404\n",
      "Communication;Creativity : 0.01035303861683404\n",
      "Comics;Creativity : 0.01035303861683404\n",
      "Casual;Music & Video : 0.01035303861683404\n",
      "Books & Reference;Creativity : 0.01035303861683404\n",
      "Board;Pretend Play : 0.01035303861683404\n",
      "Art & Design;Pretend Play : 0.01035303861683404\n",
      "Art & Design;Action & Adventure : 0.01035303861683404\n",
      "Arcade;Pretend Play : 0.01035303861683404\n",
      "Adventure;Education : 0.01035303861683404\n",
      "Adventure;Brain Games : 0.01035303861683404\n"
     ]
    }
   ],
   "source": [
    "display_table(android_clean, -4)\n"
   ]
  },
  {
   "cell_type": "markdown",
   "metadata": {},
   "source": [
    "The difference between the Genres and the Category columns is not crystal clear, but one thing we can notice is that the Genres column is much more granular (it has more categories). We're only looking for the bigger picture at the moment, so we'll only work with the Category column moving forward.\n",
    "\n",
    "Up to this point, we found that the App Store is dominated by apps designed for fun, while Google Play shows a more balanced landscape of both practical and for-fun apps. Now we'd like to get an idea about the kind of apps that have most users."
   ]
  },
  {
   "cell_type": "markdown",
   "metadata": {},
   "source": [
    "One way to find out what genres are the most popular (have the most users) is to calculate the average number of installs for each app genre. For the Google Play data set, we can find this information in the Installs column, but this information is missing for the App Store data set. As a workaround, we'll take the total number of user ratings as a proxy, which we can find in the rating_count_tot app.\n",
    "\n",
    "Let's start with calculating the average number of user ratings per app genre on the App Store."
   ]
  },
  {
   "cell_type": "code",
   "execution_count": 16,
   "metadata": {},
   "outputs": [
    {
     "name": "stdout",
     "output_type": "stream",
     "text": [
      "Social Networking : 45498.89820359281\n",
      "Photo & Video : 14352.280802292264\n",
      "Games : 13699.046373056995\n",
      "Music : 28842.021739130436\n",
      "Reference : 22410.84375\n",
      "Health & Fitness : 9913.172222222222\n",
      "Weather : 22181.027777777777\n",
      "Utilities : 6863.822580645161\n",
      "Travel : 14129.444444444445\n",
      "Shopping : 18615.32786885246\n",
      "News : 13015.066666666668\n",
      "Navigation : 11853.95652173913\n",
      "Lifestyle : 6161.763888888889\n",
      "Entertainment : 7533.678504672897\n",
      "Food & Drink : 13938.619047619048\n",
      "Sports : 14026.929824561403\n",
      "Book : 5125.4375\n",
      "Finance : 11047.653846153846\n",
      "Education : 2239.2295805739514\n",
      "Productivity : 8051.3258426966295\n",
      "Business : 4788.087719298245\n",
      "Catalogs : 1732.5\n",
      "Medical : 592.7826086956521\n"
     ]
    }
   ],
   "source": [
    "genres_ios = freq_table(ios_clean, -5)\n",
    "\n",
    "\n",
    "for genre in genres_ios:\n",
    "    total = 0 #store the sum of user ratings (the # of ratings, not the actual ratings)\n",
    "    len_genre = 0 #store the number of apps specific to each genre\n",
    "    for app in ios_clean:\n",
    "        genre_app = app[-5]\n",
    "        if genre_app == genre: #(the iteration variable of the main loop)\n",
    "            n_ratings = float(app[5])\n",
    "            total += n_ratings\n",
    "            len_genre +=1\n",
    "    avg_num_ratings = total / len_genre        \n",
    "    print(genre, ':', avg_num_ratings)"
   ]
  },
  {
   "cell_type": "markdown",
   "metadata": {},
   "source": [
    "On average, navigation apps have the highest number of user reviews, but this figure is heavily influenced by Waze and Google Maps, which have close to half a million user reviews together:"
   ]
  },
  {
   "cell_type": "code",
   "execution_count": 17,
   "metadata": {},
   "outputs": [
    {
     "name": "stdout",
     "output_type": "stream",
     "text": [
      "Waze - GPS Navigation, Maps & Real-time Traffic : 345046\n",
      "Google Maps - Navigation & Transit : 154911\n",
      "MotionX GPS : 14970\n",
      "Geocaching® : 12811\n",
      "CoPilot GPS – Car Navigation & Offline Maps : 3582\n",
      "Gaia GPS Classic : 2429\n",
      "Plane Finder - Flight Tracker : 1438\n",
      "iMaps+ for Google Maps ™ and Street View ™ : Transit and Offline Contacts : 1225\n",
      "高德地图（精准专业的手机地图） : 1040\n",
      "百度地图-智能的手机导航，公交地铁出行必备 : 1014\n",
      "NAVIGON Europe : 927\n",
      "Localscope - Find places and people around you : 868\n",
      "Ski Tracks : 829\n",
      "百度地图HD : 771\n",
      "TRANSPORT MODS for MINECRAFT Pc EDITION : 754\n",
      "Pocket Earth PRO Offline Maps & Travel Guides : 748\n",
      "Ship Finder : 624\n",
      "Boating USA : 342\n",
      "Maps 3D PRO - GPS for Bike, Hike, Ski & Outdoor : 280\n",
      "Cachly - Simple and powerful Geocaching for iPhone : 263\n",
      "ImmobilienScout24: Real Estate Search in Germany : 187\n",
      "ナビタイムの乗り換え案内 - 遅延情報やバス時刻表を案内するアプリ : 48\n",
      "The JMU Bus App : 35\n",
      "Avertinoo : 32\n",
      "iStellar : 30\n",
      "高德地图HD : 26\n",
      "mySTATE - State College : 26\n",
      "Road watcher: dash camera, car video recorder. : 10\n",
      "Streets – Street View Browser : 10\n",
      "Railway Route Search : 5\n",
      "parkOmator – for Apple Watch meter expiration timer, notifications & GPS navigator to car location : 1\n",
      "NAVIRO(ナビロー) - カーナビ/バイクナビ/徒歩ナビが使える高性能ナビアプリ : 0\n",
      "ZuumSpeed Customizable Speedometer + HUD : 0\n",
      "大江戸ぶらり : 0\n",
      "ホラースポット-ghost spot-意味が分かると怖いマップ : 0\n",
      "MapFan(マップファン) – 渋滞情報/オービス/オフライン対応の本格カーナビ : 0\n",
      "JR東日本アプリ : 0\n",
      "オービス警報 - オービス/速度取締り&渋滞 : 0\n",
      "東京時層地図 for iPad : 0\n",
      "えほう - 最強の恵方コンパス : 0\n",
      "BringGo Western Europe : 0\n",
      "バーチャル恵方巻【節分・恵方コンパス・方位】 : 0\n",
      "オービスガイド - 新型オービス&ネズミ捕り&検問 : 0\n",
      "恵方コンパス. : 0\n",
      "ナビタイム ドライブサポーター - NAVITIMEのカーナビアプリ : 0\n",
      "自転車ナビ by NAVITIME(ナビタイム) - 自転車のナビができるアプリ : 0\n"
     ]
    }
   ],
   "source": [
    "for app in ios_clean:\n",
    "    if app[-5] == 'Navigation':\n",
    "        print(app[1], ':', app[5]) # print name and number of ratings"
   ]
  },
  {
   "cell_type": "code",
   "execution_count": 18,
   "metadata": {},
   "outputs": [
    {
     "name": "stdout",
     "output_type": "stream",
     "text": [
      "1,000,000+ : 14.670255720053834\n",
      "100,000+ : 11.522931980536287\n",
      "10,000+ : 10.663629775339063\n",
      "10,000,000+ : 9.700797183973496\n",
      "1,000+ : 9.183145253131794\n",
      "100+ : 7.340304379335334\n",
      "5,000,000+ : 6.284294440418263\n",
      "500,000+ : 5.217931462884357\n",
      "50,000+ : 4.855575111295165\n",
      "5,000+ : 4.8452220726783315\n",
      "10+ : 3.985919867481106\n",
      "500+ : 3.3957966663215657\n",
      "50,000,000+ : 2.112019877834144\n",
      "50+ : 2.112019877834144\n",
      "100,000,000+ : 1.9567242985816338\n",
      "5+ : 0.8489491665803914\n",
      "1+ : 0.6936535873278807\n",
      "500,000,000+ : 0.24847292680401697\n",
      "1,000,000,000+ : 0.20706077233668083\n",
      "0+ : 0.14494254063567658\n",
      "0 : 0.01035303861683404\n"
     ]
    }
   ],
   "source": [
    "display_table(android_clean,5)"
   ]
  },
  {
   "cell_type": "code",
   "execution_count": 19,
   "metadata": {},
   "outputs": [
    {
     "name": "stdout",
     "output_type": "stream",
     "text": [
      "{'ART_AND_DESIGN': 0.6315353556268765, 'AUTO_AND_VEHICLES': 0.8800082824308935, 'BEAUTY': 0.5487110466922042, 'BOOKS_AND_REFERENCE': 2.298374572937157, 'BUSINESS': 4.348276219070297, 'COMICS': 0.5797701625427063, 'COMMUNICATION': 3.2612071643027227, 'DATING': 1.760016564861787, 'EDUCATION': 1.1077751320012423, 'ENTERTAINMENT': 0.9007143596645615, 'EVENTS': 0.6625944714773786, 'FINANCE': 3.571798322807744, 'FOOD_AND_DRINK': 1.1595403250854126, 'HEALTH_AND_FITNESS': 2.9816751216482036, 'HOUSE_AND_HOME': 0.7557718190288849, 'LIBRARIES_AND_DEMO': 0.8696552438140595, 'LIFESTYLE': 3.820271249611761, 'GAME': 9.793974531525002, 'FAMILY': 19.40159436794699, 'MEDICAL': 4.089450253649446, 'SOCIAL': 2.474376229423336, 'SHOPPING': 2.0913138006004766, 'PHOTOGRAPHY': 2.9092038513303655, 'SPORTS': 3.3647375504710633, 'TRAVEL_AND_LOCAL': 2.2673154570866547, 'TOOLS': 8.582669013355419, 'PERSONALIZATION': 3.892742519929599, 'PRODUCTIVITY': 3.8720364426959315, 'PARENTING': 0.6211823170100425, 'WEATHER': 0.8178900507298892, 'VIDEO_PLAYERS': 1.6978983331607829, 'NEWS_AND_MAGAZINES': 2.6296718086758464, 'MAPS_AND_NAVIGATION': 1.3562480588052592}\n"
     ]
    }
   ],
   "source": [
    "categories_android = freq_table(android_clean, 1)\n",
    "print(categories_android)"
   ]
  },
  {
   "cell_type": "code",
   "execution_count": 20,
   "metadata": {},
   "outputs": [
    {
     "name": "stdout",
     "output_type": "stream",
     "text": [
      "ART_AND_DESIGN : 1856362.2950819673\n",
      "AUTO_AND_VEHICLES : 625061.305882353\n",
      "BEAUTY : 513151.88679245283\n",
      "BOOKS_AND_REFERENCE : 7504367.459459459\n",
      "BUSINESS : 1659916.3452380951\n",
      "COMICS : 803234.8214285715\n",
      "COMMUNICATION : 35042146.82857143\n",
      "DATING : 828971.2176470588\n",
      "EDUCATION : 1775252.3364485982\n",
      "ENTERTAINMENT : 11375402.298850575\n",
      "EVENTS : 249580.640625\n",
      "FINANCE : 1319851.4028985507\n",
      "FOOD_AND_DRINK : 1891060.2767857143\n",
      "HEALTH_AND_FITNESS : 3972300.388888889\n",
      "HOUSE_AND_HOME : 1331540.5616438356\n",
      "LIBRARIES_AND_DEMO : 630903.6904761905\n",
      "LIFESTYLE : 1365375.4444444445\n",
      "GAME : 14226135.745243128\n",
      "FAMILY : 3319926.0965848453\n",
      "MEDICAL : 96944.49873417722\n",
      "SOCIAL : 22961790.384937238\n",
      "SHOPPING : 6932419.727722772\n",
      "PHOTOGRAPHY : 16577037.918149466\n",
      "SPORTS : 3373767.6861538463\n",
      "TRAVEL_AND_LOCAL : 13218662.767123288\n",
      "TOOLS : 9774151.887816647\n",
      "PERSONALIZATION : 4075783.994680851\n",
      "PRODUCTIVITY : 15489549.114973262\n",
      "PARENTING : 525351.8333333334\n",
      "WEATHER : 4570892.658227848\n",
      "VIDEO_PLAYERS : 23975016.585365854\n",
      "NEWS_AND_MAGAZINES : 9327628.976377953\n",
      "MAPS_AND_NAVIGATION : 3841846.4885496185\n"
     ]
    }
   ],
   "source": [
    "for category in categories_android:\n",
    "    total = 0 #store the sum of installs specific to each genre\n",
    "    len_category = 0 #len_category\n",
    "    for app in android_clean:\n",
    "        category_app = app[1]\n",
    "        if category_app == category:\n",
    "            n_installs = app[5]\n",
    "            n_installs = n_installs.replace(\"+\",\"\")\n",
    "            n_installs = n_installs.replace(\",\",\"\")\n",
    "            total += float(n_installs) #number of installs\n",
    "            len_category +=1 #increment the lenght of that category\n",
    "     \n",
    "    avg_n_installs = total / len_category\n",
    "    print(category, ':', avg_n_installs)\n",
    "    \n",
    "    "
   ]
  }
 ],
 "metadata": {
  "kernelspec": {
   "display_name": "Python 3",
   "language": "python",
   "name": "python3"
  },
  "language_info": {
   "codemirror_mode": {
    "name": "ipython",
    "version": 3
   },
   "file_extension": ".py",
   "mimetype": "text/x-python",
   "name": "python",
   "nbconvert_exporter": "python",
   "pygments_lexer": "ipython3",
   "version": "3.6.4"
  }
 },
 "nbformat": 4,
 "nbformat_minor": 2
}
