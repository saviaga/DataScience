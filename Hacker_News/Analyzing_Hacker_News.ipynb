{
 "cells": [
  {
   "cell_type": "markdown",
   "metadata": {
    "collapsed": true
   },
   "source": [
    "# Exploring Hacker News Posts\n",
    "\n",
    "In this project, we'll work with a data set of submissions to popular technology site Hacker News.\n",
    "\n",
    "We're specifically interested in posts whose titles begin with either Ask HN or Show HN. Users submit Ask HN posts to ask the Hacker News community a specific question.\n",
    "\n",
    "We'll compare these two types of posts to determine the following:\n",
    "Do Ask HN or Show HN receive more comments on average?\n",
    "Do posts created at a certain time receive more comments on average?\n",
    "Let's start by importing the libraries we need and reading the data set into a list of lists.\n"
   ]
  },
  {
   "cell_type": "code",
   "execution_count": 1,
   "metadata": {
    "collapsed": false
   },
   "outputs": [
    {
     "name": "stdout",
     "output_type": "stream",
     "text": [
      "5\n",
      "[['id', 'title', 'url', 'num_points', 'num_comments', 'author', 'created_at']]\n",
      "[['12224879', 'Interactive Dynamic Video', 'http://www.interactivedynamicvideo.com/', '386', '52', 'ne0phyte', '8/4/2016 11:52'], ['10975351', 'How to Use Open Source and Shut the Fuck Up at the Same Time', 'http://hueniverse.com/2016/01/26/how-to-use-open-source-and-shut-the-fuck-up-at-the-same-time/', '39', '10', 'josep2', '1/26/2016 19:30'], ['11964716', \"Florida DJs May Face Felony for April Fools' Water Joke\", 'http://www.thewire.com/entertainment/2013/04/florida-djs-april-fools-water-joke/63798/', '2', '1', 'vezycash', '6/23/2016 22:20'], ['11919867', 'Technology ventures: From Idea to Enterprise', 'https://www.amazon.com/Technology-Ventures-Enterprise-Thomas-Byers/dp/0073523429', '3', '1', 'hswarna', '6/17/2016 0:01'], ['10301696', 'Note by Note: The Making of Steinway L1037 (2007)', 'http://www.nytimes.com/2007/11/07/movies/07stein.html?_r=0', '8', '2', 'walterbell', '9/30/2015 4:12']]\n",
      "total hn posts 20100\n"
     ]
    }
   ],
   "source": [
    "from csv import reader\n",
    "opened_file = open(\"hacker_news.csv\")#open\n",
    "readed_file =  reader(opened_file)#read\n",
    "data = list(readed_file)#convert to list\n",
    "headers = data[:1]\n",
    "hn = data[1:] #remove header\n",
    "print(len(hn[:5]))\n",
    "print(headers)\n",
    "print(hn[:5])\n",
    "print(\"total hn posts\",len(hn) )"
   ]
  },
  {
   "cell_type": "markdown",
   "metadata": {},
   "source": [
    "**Separate posts beginning with Ask HN and Show HN (and case variations) into two different lists next.**"
   ]
  },
  {
   "cell_type": "code",
   "execution_count": 2,
   "metadata": {
    "collapsed": false,
    "scrolled": true
   },
   "outputs": [
    {
     "name": "stdout",
     "output_type": "stream",
     "text": [
      "ask nh 1744\n",
      "[['12296411', 'Ask HN: How to improve my personal website?', '', '2', '6', 'ahmedbaracat', '8/16/2016 9:55'], ['10610020', 'Ask HN: Am I the only one outraged by Twitter shutting down share counts?', '', '28', '29', 'tkfx', '11/22/2015 13:43'], ['11610310', 'Ask HN: Aby recent changes to CSS that broke mobile?', '', '1', '1', 'polskibus', '5/2/2016 10:14'], ['12210105', 'Ask HN: Looking for Employee #3 How do I do it?', '', '1', '3', 'sph130', '8/2/2016 14:20'], ['10394168', 'Ask HN: Someone offered to buy my browser extension from me. What now?', '', '28', '17', 'roykolak', '10/15/2015 16:38']]\n",
      "show hn 1162\n",
      "[['10627194', 'Show HN: Wio Link  ESP8266 Based Web of Things Hardware Development Platform', 'https://iot.seeed.cc', '26', '22', 'kfihihc', '11/25/2015 14:03'], ['10646440', 'Show HN: Something pointless I made', 'http://dn.ht/picklecat/', '747', '102', 'dhotson', '11/29/2015 22:46'], ['11590768', 'Show HN: Shanhu.io, a programming playground powered by e8vm', 'https://shanhu.io', '1', '1', 'h8liu', '4/28/2016 18:05'], ['12178806', 'Show HN: Webscope  Easy way for web developers to communicate with Clients', 'http://webscopeapp.com', '3', '3', 'fastbrick', '7/28/2016 7:11'], ['10872799', 'Show HN: GeoScreenshot  Easily test Geo-IP based web pages', 'https://www.geoscreenshot.com/', '1', '9', 'kpsychwave', '1/9/2016 20:45']]\n",
      "other posts 17194\n",
      "[['12224879', 'Interactive Dynamic Video', 'http://www.interactivedynamicvideo.com/', '386', '52', 'ne0phyte', '8/4/2016 11:52'], ['10975351', 'How to Use Open Source and Shut the Fuck Up at the Same Time', 'http://hueniverse.com/2016/01/26/how-to-use-open-source-and-shut-the-fuck-up-at-the-same-time/', '39', '10', 'josep2', '1/26/2016 19:30'], ['11964716', \"Florida DJs May Face Felony for April Fools' Water Joke\", 'http://www.thewire.com/entertainment/2013/04/florida-djs-april-fools-water-joke/63798/', '2', '1', 'vezycash', '6/23/2016 22:20'], ['11919867', 'Technology ventures: From Idea to Enterprise', 'https://www.amazon.com/Technology-Ventures-Enterprise-Thomas-Byers/dp/0073523429', '3', '1', 'hswarna', '6/17/2016 0:01'], ['10301696', 'Note by Note: The Making of Steinway L1037 (2007)', 'http://www.nytimes.com/2007/11/07/movies/07stein.html?_r=0', '8', '2', 'walterbell', '9/30/2015 4:12']]\n"
     ]
    }
   ],
   "source": [
    "ask_posts = []\n",
    "show_posts = []\n",
    "other_posts = []\n",
    "for row in hn:\n",
    "    title = row[1]\n",
    "    title = title.lower()\n",
    "   \n",
    "    if title.startswith(\"ask hn\"):\n",
    "        ask_posts.append(row)\n",
    "    elif title.startswith(\"show hn\"):\n",
    "        show_posts.append(row)\n",
    "    else:\n",
    "        other_posts.append(row)\n",
    "\n",
    "print(\"ask nh\",len(ask_posts))\n",
    "print(ask_posts[:5])\n",
    "print(\"show hn\",len(show_posts))\n",
    "print(show_posts[:5])\n",
    "print(\"other posts\",len(other_posts))\n",
    "print(other_posts[:5])\n",
    "    \n",
    "    "
   ]
  },
  {
   "cell_type": "markdown",
   "metadata": {},
   "source": [
    "\n",
    "**Calculating the Average Number of Comments for Ask HN and Show HN Posts**"
   ]
  },
  {
   "cell_type": "code",
   "execution_count": 3,
   "metadata": {
    "collapsed": false,
    "scrolled": false
   },
   "outputs": [
    {
     "name": "stdout",
     "output_type": "stream",
     "text": [
      "Total ask comments 24483\n",
      "14.038417431192661\n",
      "Total show comments 11988\n",
      "10.31669535283993\n",
      "Total other comments 462055\n",
      "26.8730371059672\n",
      "sum of all comments 498526\n"
     ]
    }
   ],
   "source": [
    "\n",
    "def avg_comments(data):\n",
    "    total_comments = 0\n",
    "    count_comments = 0\n",
    "    for row in data:\n",
    "        num_comments = int(row[4])\n",
    "        total_comments += num_comments\n",
    "        count_comments +=1\n",
    "    av_comments = total_comments / count_comments\n",
    "    return total_comments, av_comments\n",
    "\n",
    "total_ask_comm, avg_ask_comments = avg_comments(ask_posts)\n",
    "total_show_comm,avg_show_comments = avg_comments(show_posts)\n",
    "total_other_comm,avg_other_comments = avg_comments(other_posts)\n",
    "\n",
    "print(\"Total ask comments\",total_ask_comm)\n",
    "print(avg_ask_comments)\n",
    "print(\"Total show comments\",total_show_comm)\n",
    "print(avg_show_comments)\n",
    "print(\"Total other comments\",total_other_comm)\n",
    "print(avg_other_comments)\n",
    "print(\"sum of all comments\", total_ask_comm+total_show_comm+total_other_comm)\n"
   ]
  },
  {
   "cell_type": "markdown",
   "metadata": {},
   "source": [
    "**Finding the Amount of Ask Posts and Comments by Hour Created**"
   ]
  },
  {
   "cell_type": "code",
   "execution_count": 4,
   "metadata": {
    "collapsed": false,
    "scrolled": true
   },
   "outputs": [
    {
     "name": "stdout",
     "output_type": "stream",
     "text": [
      "{'10': 59, '14': 107, '17': 100, '06': 44, '13': 85, '20': 80, '03': 54, '15': 116, '11': 58, '16': 108, '18': 109, '01': 60, '09': 45, '02': 58, '22': 71, '04': 47, '23': 68, '07': 34, '21': 109, '12': 73, '05': 46, '08': 48, '00': 55, '19': 110}\n",
      "{'10': 793, '14': 1416, '17': 1146, '06': 397, '13': 1253, '20': 1722, '03': 421, '15': 4477, '11': 641, '16': 1814, '18': 1439, '01': 683, '09': 251, '02': 1381, '22': 479, '04': 337, '23': 543, '07': 267, '21': 1745, '12': 687, '05': 464, '08': 492, '00': 447, '19': 1188}\n"
     ]
    }
   ],
   "source": [
    "import datetime as dt\n",
    "result_list = []\n",
    "for row in ask_posts:\n",
    "    result_list.append([row[6],row[4]])\n",
    "\n",
    "counts_by_hour = {}\n",
    "comments_by_hour = {}\n",
    "for row in result_list:\n",
    "    date = row[0]\n",
    "    comments = row[1]\n",
    "    date =  dt.datetime.strptime(date, \"%m/%d/%Y %H:%M\", )\n",
    "    hour = date.strftime(\"%H\")\n",
    "    if hour not in counts_by_hour:\n",
    "        counts_by_hour[hour] = 1\n",
    "        comments_by_hour[hour] = int(comments)\n",
    "    else:\n",
    "        counts_by_hour[hour] += 1\n",
    "        comments_by_hour[hour] += int(comments)\n",
    "    \n",
    "print(counts_by_hour)\n",
    "print(comments_by_hour)        \n",
    "    \n",
    "   "
   ]
  },
  {
   "cell_type": "markdown",
   "metadata": {},
   "source": [
    "**Calculating the Average Number of Comments for Ask HN Posts by Hour**"
   ]
  },
  {
   "cell_type": "code",
   "execution_count": 5,
   "metadata": {
    "collapsed": false,
    "scrolled": false
   },
   "outputs": [
    {
     "name": "stdout",
     "output_type": "stream",
     "text": [
      "[['10', 13.440677966101696], ['14', 13.233644859813085], ['17', 11.46], ['06', 9.022727272727273], ['13', 14.741176470588234], ['20', 21.525], ['03', 7.796296296296297], ['15', 38.5948275862069], ['11', 11.051724137931034], ['16', 16.796296296296298], ['18', 13.20183486238532], ['01', 11.383333333333333], ['09', 5.5777777777777775], ['02', 23.810344827586206], ['22', 6.746478873239437], ['04', 7.170212765957447], ['23', 7.985294117647059], ['07', 7.852941176470588], ['21', 16.009174311926607], ['12', 9.41095890410959], ['05', 10.08695652173913], ['08', 10.25], ['00', 8.127272727272727], ['19', 10.8]]\n"
     ]
    }
   ],
   "source": [
    "avg_per_hour = []\n",
    "for hour in comments_by_hour:\n",
    "    avg_per_hour.append([hour,comments_by_hour[hour]/counts_by_hour[hour]])\n",
    "print(avg_per_hour)\n",
    "    "
   ]
  },
  {
   "cell_type": "markdown",
   "metadata": {},
   "source": [
    "**Presenting top 5 hours with the most avg comments **"
   ]
  },
  {
   "cell_type": "code",
   "execution_count": 6,
   "metadata": {
    "collapsed": false,
    "scrolled": true
   },
   "outputs": [
    {
     "name": "stdout",
     "output_type": "stream",
     "text": [
      "15, 38.59 average comments per post\n",
      "02, 23.81 average comments per post\n",
      "20, 21.52 average comments per post\n",
      "16, 16.80 average comments per post\n",
      "21, 16.01 average comments per post\n"
     ]
    }
   ],
   "source": [
    "swap_avg_by_hour = []\n",
    "for row in avg_per_hour:\n",
    "    swap_avg_by_hour.append([row[1],row[0]])\n",
    "#print(swap_avg_by_hour) \n",
    "sorted_swap = sorted(swap_avg_by_hour, reverse=True)\n",
    "for row in sorted_swap[:5]:\n",
    "    print(\"{time}, {avg:.2f} average comments per post\".format(time=row[1], avg=row[0]))\n"
   ]
  },
  {
   "cell_type": "code",
   "execution_count": null,
   "metadata": {
    "collapsed": true
   },
   "outputs": [],
   "source": []
  }
 ],
 "metadata": {
  "kernelspec": {
   "display_name": "Python 3",
   "language": "python",
   "name": "python3"
  },
  "language_info": {
   "codemirror_mode": {
    "name": "ipython",
    "version": 3
   },
   "file_extension": ".py",
   "mimetype": "text/x-python",
   "name": "python",
   "nbconvert_exporter": "python",
   "pygments_lexer": "ipython3",
   "version": "3.4.3"
  }
 },
 "nbformat": 4,
 "nbformat_minor": 2
}
